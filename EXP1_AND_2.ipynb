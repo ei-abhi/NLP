{
  "nbformat": 4,
  "nbformat_minor": 0,
  "metadata": {
    "colab": {
      "provenance": []
    },
    "kernelspec": {
      "name": "python3",
      "display_name": "Python 3"
    },
    "language_info": {
      "name": "python"
    }
  },
  "cells": [
    {
      "cell_type": "code",
      "execution_count": 1,
      "metadata": {
        "id": "NfY0xTfo9qHw"
      },
      "outputs": [],
      "source": [
        "import spacy\n",
        "nlp=spacy.load('en_core_web_sm')"
      ]
    },
    {
      "cell_type": "code",
      "source": [
        "doc=nlp(\"nikhil is erripuku, Anji is also an erripuku\")"
      ],
      "metadata": {
        "id": "_M31fwcqQ7ay"
      },
      "execution_count": 40,
      "outputs": []
    },
    {
      "cell_type": "code",
      "source": [
        "for sent in doc.sents:\n",
        "  print(sent)\n"
      ],
      "metadata": {
        "colab": {
          "base_uri": "https://localhost:8080/"
        },
        "id": "fqAfgQzhRGV7",
        "outputId": "071fe660-d618-4fb2-e655-70b4ce5f466f"
      },
      "execution_count": 41,
      "outputs": [
        {
          "output_type": "stream",
          "name": "stdout",
          "text": [
            "nikhil is erripuku, Anji is also an erripuku\n"
          ]
        }
      ]
    },
    {
      "cell_type": "code",
      "source": [
        "for word in doc:\n",
        "  print(word)"
      ],
      "metadata": {
        "colab": {
          "base_uri": "https://localhost:8080/"
        },
        "id": "uunOZktBRMdw",
        "outputId": "5607bbfd-482c-4af2-c825-cea6d5612827"
      },
      "execution_count": 16,
      "outputs": [
        {
          "output_type": "stream",
          "name": "stdout",
          "text": [
            "nikhil\n",
            "is\n",
            "erripuku\n",
            ".\n",
            "@Anji\n",
            "is\n",
            "also\n",
            "an\n",
            "erripuku\n",
            ".\n"
          ]
        }
      ]
    },
    {
      "cell_type": "code",
      "source": [],
      "metadata": {
        "id": "Qk8M0dJcVl1J"
      },
      "execution_count": null,
      "outputs": []
    },
    {
      "cell_type": "markdown",
      "source": [
        "TOKENIZE USING NLTK"
      ],
      "metadata": {
        "id": "FZdAaUK2Sfh_"
      }
    },
    {
      "cell_type": "code",
      "source": [
        "import nltk\n",
        "from nltk.tokenize import word_tokenize, sent_tokenize"
      ],
      "metadata": {
        "id": "vdSGaa7YSDKK"
      },
      "execution_count": 7,
      "outputs": []
    },
    {
      "cell_type": "code",
      "source": [
        "nltk.download('punkt')"
      ],
      "metadata": {
        "colab": {
          "base_uri": "https://localhost:8080/"
        },
        "id": "Ezo-ofI3SIyZ",
        "outputId": "32471435-4c9e-460d-ffca-dde55f8524e1"
      },
      "execution_count": 8,
      "outputs": [
        {
          "output_type": "stream",
          "name": "stderr",
          "text": [
            "[nltk_data] Downloading package punkt to /root/nltk_data...\n",
            "[nltk_data]   Unzipping tokenizers/punkt.zip.\n"
          ]
        },
        {
          "output_type": "execute_result",
          "data": {
            "text/plain": [
              "True"
            ]
          },
          "metadata": {},
          "execution_count": 8
        }
      ]
    },
    {
      "cell_type": "code",
      "source": [
        "word_tokenize(\"nikhil is erripuku, Anji is also an erripuku\")"
      ],
      "metadata": {
        "colab": {
          "base_uri": "https://localhost:8080/"
        },
        "id": "uPwdBeiKSLGM",
        "outputId": "d85e0771-83b4-4c4d-8404-7c3b281a6be8"
      },
      "execution_count": 38,
      "outputs": [
        {
          "output_type": "execute_result",
          "data": {
            "text/plain": [
              "['nikhil', 'is', 'erripuku', ',', 'Anji', 'is', 'also', 'an', 'erripuku']"
            ]
          },
          "metadata": {},
          "execution_count": 38
        }
      ]
    },
    {
      "cell_type": "code",
      "source": [
        "sent_tokenize(\"nikhil is erripuku, Anji is also an erripuku\")"
      ],
      "metadata": {
        "colab": {
          "base_uri": "https://localhost:8080/"
        },
        "id": "TANphNb4SRpw",
        "outputId": "6c7b3858-7996-41c8-8dbf-e570e96f6ce7"
      },
      "execution_count": 39,
      "outputs": [
        {
          "output_type": "execute_result",
          "data": {
            "text/plain": [
              "['nikhil is erripuku, Anji is also an erripuku']"
            ]
          },
          "metadata": {},
          "execution_count": 39
        }
      ]
    },
    {
      "cell_type": "code",
      "source": [
        "import re"
      ],
      "metadata": {
        "id": "5lngNB2pSUpQ"
      },
      "execution_count": 19,
      "outputs": []
    },
    {
      "cell_type": "code",
      "source": [
        "txt='Anji is also an erripuku'\n",
        "x=re.findall('[a-f]',txt)\n",
        "x"
      ],
      "metadata": {
        "colab": {
          "base_uri": "https://localhost:8080/"
        },
        "id": "H5NU0RT-XORR",
        "outputId": "249aeb35-0ef0-4b4c-ec75-34352c9dc27e"
      },
      "execution_count": 23,
      "outputs": [
        {
          "output_type": "execute_result",
          "data": {
            "text/plain": [
              "['a', 'a', 'e']"
            ]
          },
          "metadata": {},
          "execution_count": 23
        }
      ]
    },
    {
      "cell_type": "markdown",
      "source": [
        "Parts of Speech"
      ],
      "metadata": {
        "id": "tHqp5PJOZUIh"
      }
    },
    {
      "cell_type": "code",
      "source": [
        "for word in doc:\n",
        "  print(word,\" | \",word.pos_)"
      ],
      "metadata": {
        "colab": {
          "base_uri": "https://localhost:8080/"
        },
        "id": "Bpv8XAwLYcO5",
        "outputId": "dc75ba19-8f04-47b3-a5b7-b9619f8d5aeb"
      },
      "execution_count": 30,
      "outputs": [
        {
          "output_type": "stream",
          "name": "stdout",
          "text": [
            "nikhil  |  PROPN\n",
            "is  |  AUX\n",
            "erripuku  |  NOUN\n",
            ".  |  PUNCT\n",
            "@Anji  |  NOUN\n",
            "is  |  AUX\n",
            "also  |  ADV\n",
            "an  |  DET\n",
            "erripuku  |  NOUN\n",
            ".  |  PUNCT\n"
          ]
        }
      ]
    },
    {
      "cell_type": "code",
      "source": [
        "nlp.pipe_names"
      ],
      "metadata": {
        "colab": {
          "base_uri": "https://localhost:8080/"
        },
        "id": "Kae18nPVYjtA",
        "outputId": "a071a7dc-a293-4ab1-afd5-2df1762e05ff"
      },
      "execution_count": 29,
      "outputs": [
        {
          "output_type": "execute_result",
          "data": {
            "text/plain": [
              "['tok2vec', 'tagger', 'parser', 'attribute_ruler', 'lemmatizer', 'ner']"
            ]
          },
          "metadata": {},
          "execution_count": 29
        }
      ]
    },
    {
      "cell_type": "markdown",
      "source": [
        "Lemmatization"
      ],
      "metadata": {
        "id": "4HNbIQTrZkOf"
      }
    },
    {
      "cell_type": "code",
      "source": [
        "for word in doc:\n",
        "  print(word, \" | \",word.lemma_)"
      ],
      "metadata": {
        "colab": {
          "base_uri": "https://localhost:8080/"
        },
        "id": "BN38hda7Y6qm",
        "outputId": "75f59b73-aa5c-4e43-8e35-f6bb593c8e12"
      },
      "execution_count": 31,
      "outputs": [
        {
          "output_type": "stream",
          "name": "stdout",
          "text": [
            "nikhil  |  nikhil\n",
            "is  |  be\n",
            "erripuku  |  erripuku\n",
            ".  |  .\n",
            "@Anji  |  @anji\n",
            "is  |  be\n",
            "also  |  also\n",
            "an  |  an\n",
            "erripuku  |  erripuku\n",
            ".  |  .\n"
          ]
        }
      ]
    },
    {
      "cell_type": "markdown",
      "source": [
        "Stemming"
      ],
      "metadata": {
        "id": "-qzTV5_Vchfj"
      }
    },
    {
      "cell_type": "code",
      "source": [
        "from nltk.stem import PorterStemmer\n",
        "txt='Nikhil is living a good life'\n",
        "ps=PorterStemmer()\n",
        "words=word_tokenize(txt)\n",
        "for word in words:\n",
        "  print(word,\" | \",ps.stem(word))"
      ],
      "metadata": {
        "colab": {
          "base_uri": "https://localhost:8080/"
        },
        "id": "BhxKjsN0Zins",
        "outputId": "c96ecf50-4a4c-48a9-855c-3a0f25623c36"
      },
      "execution_count": 37,
      "outputs": [
        {
          "output_type": "stream",
          "name": "stdout",
          "text": [
            "Nikhil  |  nikhil\n",
            "is  |  is\n",
            "living  |  live\n",
            "a  |  a\n",
            "good  |  good\n",
            "life  |  life\n"
          ]
        }
      ]
    },
    {
      "cell_type": "code",
      "source": [],
      "metadata": {
        "id": "clIFpYRXZtw3"
      },
      "execution_count": null,
      "outputs": []
    }
  ]
}