{
 "cells": [
  {
   "cell_type": "code",
   "execution_count": 23,
   "metadata": {},
   "outputs": [
    {
     "name": "stderr",
     "output_type": "stream",
     "text": [
      "[nltk_data] Downloading package vader_lexicon to\n",
      "[nltk_data]     /Users/shreyaspandey/nltk_data...\n",
      "[nltk_data]   Package vader_lexicon is already up-to-date!\n"
     ]
    }
   ],
   "source": [
    "import nltk\n",
    "nltk.download('vader_lexicon')\n",
    "from nltk.sentiment import SentimentIntensityAnalyzer"
   ]
  },
  {
   "cell_type": "code",
   "execution_count": 24,
   "metadata": {},
   "outputs": [],
   "source": [
    "analyzer = SentimentIntensityAnalyzer()"
   ]
  },
  {
   "cell_type": "code",
   "execution_count": 25,
   "metadata": {},
   "outputs": [],
   "source": [
    "def get_sentiment(text):\n",
    "  scores = analyzer.polarity_scores(text)\n",
    "  predicted_sentiment = max(scores, key=scores.get)\n",
    "  return text, predicted_sentiment"
   ]
  },
  {
   "cell_type": "code",
   "execution_count": 26,
   "metadata": {},
   "outputs": [],
   "source": [
    "def evaluate(data):\n",
    "  correct = 0\n",
    "  for text, label in data:\n",
    "    predicted_sentiment, _ = get_sentiment(text)\n",
    "    if predicted_sentiment == label:\n",
    "      correct += 1\n",
    "  accuracy = correct / len(data) * 100\n",
    "  return accuracy"
   ]
  },
  {
   "cell_type": "code",
   "execution_count": 39,
   "metadata": {},
   "outputs": [],
   "source": [
    "data = [\n",
    "  (\"The food was delicious and the service was excellent. I will definitely be back!\", \"Positive\"),\n",
    "  (\"This movie was a total disappointment. The acting was terrible and the plot was predictable.\", \"Negative\"),\n",
    "  (\"The hotel was okay, but the room was a bit small. Overall, it was an average experience.\", \"Neutral\"),\n",
    "  (\"I love this new phone! It's so fast and the camera is amazing.\", \"Positive\"),\n",
    "  (\"The product arrived damaged and customer service was unhelpful. Very frustrating experience.\", \"Negative\"),\n",
    "]"
   ]
  },
  {
   "cell_type": "code",
   "execution_count": 41,
   "metadata": {},
   "outputs": [
    {
     "name": "stdout",
     "output_type": "stream",
     "text": [
      "5\n"
     ]
    }
   ],
   "source": [
    "print (len(data))"
   ]
  },
  {
   "cell_type": "code",
   "execution_count": 40,
   "metadata": {},
   "outputs": [
    {
     "name": "stdout",
     "output_type": "stream",
     "text": [
      "Sentiment Analysis Accuracy: 0.0 %\n",
      "Sentiment for 'I love this new phone!': compound\n"
     ]
    }
   ],
   "source": [
    "accuracy = evaluate(data)\n",
    "print(\"Sentiment Analysis Accuracy:\", accuracy, \"%\")\n",
    "\n",
    "new_text = \"I love this new phone!\"\n",
    "text, predicted_sentiment = get_sentiment(new_text)\n",
    "print(f\"Sentiment for '{text}': {predicted_sentiment}\")"
   ]
  }
 ],
 "metadata": {
  "kernelspec": {
   "display_name": "base",
   "language": "python",
   "name": "python3"
  },
  "language_info": {
   "codemirror_mode": {
    "name": "ipython",
    "version": 3
   },
   "file_extension": ".py",
   "mimetype": "text/x-python",
   "name": "python",
   "nbconvert_exporter": "python",
   "pygments_lexer": "ipython3",
   "version": "3.11.5"
  }
 },
 "nbformat": 4,
 "nbformat_minor": 2
}
