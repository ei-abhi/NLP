{
  "nbformat": 4,
  "nbformat_minor": 0,
  "metadata": {
    "colab": {
      "provenance": []
    },
    "kernelspec": {
      "name": "python3",
      "display_name": "Python 3"
    },
    "language_info": {
      "name": "python"
    }
  },
  "cells": [
    {
      "cell_type": "code",
      "execution_count": 1,
      "metadata": {
        "colab": {
          "base_uri": "https://localhost:8080/"
        },
        "id": "m-qCDbLqgtjW",
        "outputId": "fe1a56d3-d7b5-4465-8153-ebd23404581b"
      },
      "outputs": [
        {
          "output_type": "stream",
          "name": "stdout",
          "text": [
            "nikhil  |  PROPN\n",
            "is  |  AUX\n",
            "erripuku  |  NOUN\n",
            ",  |  PUNCT\n",
            "Anji  |  PROPN\n",
            "is  |  AUX\n",
            "also  |  ADV\n",
            "an  |  DET\n",
            "erripuku  |  NOUN\n"
          ]
        }
      ],
      "source": [
        "import spacy\n",
        "nlp=spacy.load('en_core_web_sm')\n",
        "\n",
        "doc=nlp(\"nikhil is erripuku, Anji is also an erripuku\")\n",
        "\n",
        "for word in doc:\n",
        "  print(word,\" | \",word.pos_)"
      ]
    }
  ]
}