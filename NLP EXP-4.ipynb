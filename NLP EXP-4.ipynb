{
 "cells": [
  {
   "cell_type": "code",
   "execution_count": 1,
   "id": "2841fdd1",
   "metadata": {},
   "outputs": [],
   "source": [
    "import nltk\n",
    "from nltk.corpus import stopwords\n",
    "from nltk.tokenize import word_tokenize"
   ]
  },
  {
   "cell_type": "code",
   "execution_count": 2,
   "id": "6e46e308",
   "metadata": {},
   "outputs": [
    {
     "name": "stderr",
     "output_type": "stream",
     "text": [
      "[nltk_data] Downloading package punkt to\n",
      "[nltk_data]     /Users/rashazrafeeque/nltk_data...\n",
      "[nltk_data]   Package punkt is already up-to-date!\n",
      "[nltk_data] Downloading package stopwords to\n",
      "[nltk_data]     /Users/rashazrafeeque/nltk_data...\n",
      "[nltk_data]   Unzipping corpora/stopwords.zip.\n"
     ]
    },
    {
     "data": {
      "text/plain": [
       "True"
      ]
     },
     "execution_count": 2,
     "metadata": {},
     "output_type": "execute_result"
    }
   ],
   "source": [
    "# Download NLTK resources\n",
    "nltk.download('punkt')\n",
    "nltk.download('stopwords')"
   ]
  },
  {
   "cell_type": "code",
   "execution_count": 3,
   "id": "376ba2a1",
   "metadata": {},
   "outputs": [],
   "source": [
    "text = \"Today is my birthday. Wish me happy birthday\""
   ]
  },
  {
   "cell_type": "code",
   "execution_count": 4,
   "id": "0f5fdd73",
   "metadata": {},
   "outputs": [],
   "source": [
    "tokens = word_tokenize(text)"
   ]
  },
  {
   "cell_type": "code",
   "execution_count": 5,
   "id": "b8932fcb",
   "metadata": {},
   "outputs": [
    {
     "name": "stdout",
     "output_type": "stream",
     "text": [
      "Stopwords in English:\n",
      "{'have', 'by', 'it', 'above', 'those', 'these', 'here', 'their', 'an', 'don', 'yourselves', 'our', 'herself', 'has', 'or', 'do', 'until', \"that'll\", 'not', 'itself', 'couldn', 'weren', 'am', 'as', 'off', 'each', 'both', 'which', 'hasn', 'in', 'now', 'of', 'should', 'shan', 'been', 'nor', \"you're\", 'yours', \"shouldn't\", 'y', 'below', 'i', 'him', 'that', 'wasn', 'this', 'through', 'the', 'no', 'she', 'if', \"aren't\", \"wouldn't\", \"doesn't\", 'won', 'on', 'themselves', \"wasn't\", 'for', 'up', 'again', 'doesn', \"weren't\", \"should've\", 'd', 'theirs', 'its', 'ain', 'being', \"didn't\", 'was', 'when', 's', 'further', 'once', 'from', 'wouldn', 'just', \"hasn't\", 'is', 'any', 'me', 'my', 'how', 'between', 'did', \"hadn't\", \"you'll\", \"isn't\", 'll', 've', 'such', 'does', 'them', 'same', 'than', \"don't\", 'will', 'what', 'very', 'all', 'we', 'hers', \"you've\", 'other', 'but', 'whom', 'mightn', \"couldn't\", \"shan't\", \"it's\", 'yourself', 'where', 'are', 'because', 'aren', 're', 'haven', 'only', 'to', 'having', 'and', 'against', 't', 'too', 'while', 'her', 'they', 'under', 'about', \"needn't\", 'm', 'a', 'over', 'with', 'o', 'down', 'you', 'there', \"she's\", 'didn', 'isn', 'out', 'so', 'after', 'few', 'he', 'hadn', 'doing', 'ourselves', 'ours', 'then', 'his', 'your', 'himself', 'some', 'be', 'ma', 'own', 'myself', 'at', 'into', 'more', 'had', \"haven't\", 'were', \"mightn't\", \"mustn't\", 'shouldn', 'who', 'during', 'most', 'mustn', 'needn', \"won't\", 'before', \"you'd\", 'why', 'can'}\n"
     ]
    }
   ],
   "source": [
    "stop_words = set(stopwords.words('english'))\n",
    "\n",
    "print(\"Stopwords in English:\")\n",
    "print(stop_words)"
   ]
  },
  {
   "cell_type": "code",
   "execution_count": 8,
   "id": "8f09d6ca",
   "metadata": {},
   "outputs": [
    {
     "name": "stdout",
     "output_type": "stream",
     "text": [
      "\n",
      "Original Text:\n",
      "Today is my birthday. Wish me happy birthday\n",
      "\n",
      "Text after removing stopwords:\n",
      "Today birthday . Wish happy birthday\n"
     ]
    }
   ],
   "source": [
    "filtered_tokens = [word for word in tokens if word.lower() not in stop_words]\n",
    "filtered_text = ' '.join(filtered_tokens)\n",
    "\n",
    "print(\"\\nOriginal Text:\")\n",
    "print(text)\n",
    "print(\"\\nText after removing stopwords:\")\n",
    "print(filtered_text)"
   ]
  },
  {
   "cell_type": "code",
   "execution_count": null,
   "id": "6b53cc60",
   "metadata": {},
   "outputs": [],
   "source": []
  }
 ],
 "metadata": {
  "kernelspec": {
   "display_name": "Python 3 (ipykernel)",
   "language": "python",
   "name": "python3"
  },
  "language_info": {
   "codemirror_mode": {
    "name": "ipython",
    "version": 3
   },
   "file_extension": ".py",
   "mimetype": "text/x-python",
   "name": "python",
   "nbconvert_exporter": "python",
   "pygments_lexer": "ipython3",
   "version": "3.11.5"
  }
 },
 "nbformat": 4,
 "nbformat_minor": 5
}
